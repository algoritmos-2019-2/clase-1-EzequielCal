{
 "cells": [
  {
   "cell_type": "code",
   "execution_count": 1,
   "metadata": {},
   "outputs": [
    {
     "name": "stdout",
     "output_type": "stream",
     "text": [
      "Inserte el archivo a codificar:archivo.txt\n",
      "¿Cuántos espacios desea desplazar las letras para la codificación?10\n",
      "El mensaje ha sido codificado\n"
     ]
    }
   ],
   "source": [
    "a=[\"a\",\"b\",\"c\",\"d\",\"e\",\"f\",\"g\",\"h\",\"i\",\"j\",\"k\",\"l\",\"m\",\"n\",\"ñ\",\"o\",\"p\",\"q\",\"r\",\"s\",\"t\",\"u\",\"v\",\"w\",\"x\",\"y\",\"z\"]\n",
    "A=[\"A\",\"B\",\"C\",\"D\",\"E\",\"F\",\"G\",\"H\",\"I\",\"J\",\"K\",\"L\",\"M\",\"N\",\"Ñ\",\"O\",\"P\",\"Q\",\"R\",\"S\",\"T\",\"U\",\"V\",\"W\",\"X\",\"Y\",\"Z\"]\n",
    "def Encriptado(n, cambio):\n",
    "    #n es la cantidad de espacios que me desplazare en el alfabeto para codificar; \n",
    "    #\"cambio\" es la lista que contiene al alfabeto\n",
    "    #La función debe regresar el alfabeto alterado, el cual está definido por Z\n",
    "    Z={}\n",
    "    while n>len(cambio):\n",
    "        n = n-len(cambio)\n",
    "    while n< -len(cambio):\n",
    "        n = n+len(cambio)\n",
    "    for a in range(len(cambio)):\n",
    "        if a+n>len(cambio)-1:\n",
    "            Z[cambio[a]]=cambio[(a+n)-len(cambio)]\n",
    "        else:\n",
    "            Z[cambio[a]]=cambio[a+n]\n",
    "    return(Z)\n",
    "def Cesar(texto, n, cambio, CAMBIO):\n",
    "    Z=\"\"\n",
    "    cambionew=Encriptado(n, cambio)\n",
    "    CAMBIONEW=Encriptado(n, CAMBIO)\n",
    "    for a in texto:\n",
    "        if a==\"\\n\":\n",
    "            Z=Z+a\n",
    "        elif a==\" \":\n",
    "            Z=Z+a\n",
    "        elif a in cambio:\n",
    "            Z=Z+cambionew[a]\n",
    "        elif a in CAMBIO:\n",
    "            Z=Z+CAMBIONEW[a]\n",
    "    return(Z)\n",
    "def CodTxt(archivo, n, cambio, CAMBIO):\n",
    "    Z=\"\"\n",
    "    #El archivo que se codificará estará dentro de los archivos de la carpeta\n",
    "    texto=open(\"archivo.txt\", \"r\")\n",
    "    #En la opcion de Insertar el archivo a codificar, siempre deberá escribirse \"archivo.txt\" \n",
    "    #para evitar tener que crear varios archivos\n",
    "    for line in texto:\n",
    "        Z=Z+line\n",
    "    texto.close()\n",
    "    archivo_cod=\"\"\n",
    "    invalido=False\n",
    "    for a in Z:\n",
    "        if not ((a in cambio) or (a in CAMBIO) or (a==\" \") or (a==\"\\n\")):\n",
    "            invalido=True\n",
    "            print(\"El mensaje a codificar solo acepta letras sin acentos, espacios y saltos de página\")\n",
    "            break\n",
    "    if not invalido:\n",
    "        for a in range(len(archivo)-4):\n",
    "            archivo_cod=archivo_cod+archivo[a]\n",
    "        archivo_cod=archivo_cod+\"_cod.txt\"\n",
    "        texto2=open(\"archivo_cod.txt\", \"w\")\n",
    "        texto2.write(Cesar(Z, n, cambio, CAMBIO))\n",
    "        texto2.close()\n",
    "        print(\"El mensaje ha sido codificado\")\n",
    "archivo=input(\"Inserte el archivo a codificar:\")\n",
    "con=True\n",
    "while con:\n",
    "    if len(archivo)>5:\n",
    "        if (archivo[-4]+archivo[-3]+archivo[-2]+archivo[-1])==\".txt\":\n",
    "            con=False\n",
    "        else:\n",
    "            archivo=input(\"El archivo no es válido, vuelve a intentar:\")\n",
    "n=int(input(\"¿Cuántos espacios desea desplazar las letras para la codificación?\"))\n",
    "CodTxt(archivo, n, a, A)\n",
    "#Cabe aclarar que para ver los archivos \"archivo.txt\" con el texto sin codificar\n",
    "#Y \"archivo_cod.txt\" con el texto codificado, debe ir a estos archivos y abrirlos en la carpeta de Práctica3\n"
   ]
  },
  {
   "cell_type": "code",
   "execution_count": null,
   "metadata": {},
   "outputs": [],
   "source": []
  },
  {
   "cell_type": "code",
   "execution_count": null,
   "metadata": {},
   "outputs": [],
   "source": []
  },
  {
   "cell_type": "code",
   "execution_count": null,
   "metadata": {},
   "outputs": [],
   "source": []
  }
 ],
 "metadata": {
  "kernelspec": {
   "display_name": "Python 3",
   "language": "python",
   "name": "python3"
  },
  "language_info": {
   "codemirror_mode": {
    "name": "ipython",
    "version": 3
   },
   "file_extension": ".py",
   "mimetype": "text/x-python",
   "name": "python",
   "nbconvert_exporter": "python",
   "pygments_lexer": "ipython3",
   "version": "3.7.1"
  }
 },
 "nbformat": 4,
 "nbformat_minor": 2
}
