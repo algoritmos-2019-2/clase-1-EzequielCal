{
 "cells": [
  {
   "cell_type": "code",
   "execution_count": 2,
   "metadata": {},
   "outputs": [
    {
     "name": "stdout",
     "output_type": "stream",
     "text": [
      "Inserte el archivo a codificar:archivo.txt\n",
      "¿Cuántos espacios desea desplazar las letras para la codificación?5\n",
      "¿Qué dirá el archivo?Hola mundo\n",
      "El mensaje ha sido codificado\n"
     ]
    }
   ],
   "source": [
    "a=[\"a\",\"b\",\"c\",\"d\",\"e\",\"f\",\"g\",\"h\",\"i\",\"j\",\"k\",\"l\",\"m\",\"n\",\"ñ\",\"o\",\"p\",\"q\",\"r\",\"s\",\"t\",\"u\",\"v\",\"w\",\"x\",\"y\",\"z\"]\n",
    "A=[\"A\",\"B\",\"C\",\"D\",\"E\",\"F\",\"G\",\"H\",\"I\",\"J\",\"K\",\"L\",\"M\",\"N\",\"Ñ\",\"O\",\"P\",\"Q\",\"R\",\"S\",\"T\",\"U\",\"V\",\"W\",\"X\",\"Y\",\"Z\"]\n",
    "def Encriptado(n, cambio):\n",
    "    #n es la cantidad de espacios que me desplazare en el alfabeto para codificar; \"cambio\" es la lista que contiene al alfabeto\n",
    "    #La función debe regresar el alfabeto alterado, el cual está definido por Z\n",
    "    Z={}\n",
    "    while n>len(cambio):\n",
    "        n = n-len(cambio)\n",
    "    while n< -len(cambio):\n",
    "        n = n+len(cambio)\n",
    "    for a in range(len(cambio)):\n",
    "        if a+n>len(cambio)-1:\n",
    "            Z[cambio[a]]=cambio[(a+n)-len(cambio)]\n",
    "        else:\n",
    "            Z[cambio[a]]=cambio[a+n]\n",
    "    return(Z)\n",
    "def Cesar(texto, n, cambio, CAMBIO):\n",
    "    Z=\"\"\n",
    "    cambionew=Encriptado(n, cambio)\n",
    "    CAMBIONEW=Encriptado(n, CAMBIO)\n",
    "    for a in texto:\n",
    "        if a==\"\\n\":\n",
    "            Z=Z+\"\\n\"\n",
    "        elif a in cambio:\n",
    "            Z=Z+cambionew[a]\n",
    "        elif a in CAMBIO:\n",
    "            Z=Z+CAMBIONEW[a]\n",
    "    return(Z)\n",
    "def CodTxt(archivo, n, cambio, CAMBIO):\n",
    "    Z=\"\"\n",
    "    mensaje=input(\"¿Qué dirá el archivo?\")\n",
    "    texto=open(\"archivo.txt\", \"w\")\n",
    "    texto.write(mensaje)\n",
    "    texto.close()\n",
    "    texto=open(\"archivo.txt\", \"r\")\n",
    "    for line in texto:\n",
    "        Z=Z+line\n",
    "    texto.close()\n",
    "    archivo_cod=\"\"\n",
    "    invalido=False\n",
    "    for a in Z:\n",
    "        if not ((a in cambio) or (a in CAMBIO) or (a==\" \") or (a==\"\\n\")):\n",
    "            invalido=True\n",
    "            print(\"El mensaje a codificar solo acepta letras sin acentos, espacios y saltos de página\")\n",
    "            break\n",
    "    if not invalido:\n",
    "        for a in range(len(archivo)-4):\n",
    "            archivo_cod=archivo_cod+archivo[a]\n",
    "        archivo_cod=archivo_cod+\"_cod.txt\"\n",
    "        texto2=open(\"archivo_cod.txt\", \"w\")\n",
    "        texto2.write(Cesar(Z, n, cambio, CAMBIO))\n",
    "        texto2.close()\n",
    "        print(\"El mensaje ha sido codificado\")\n",
    "archivo=input(\"Inserte el archivo a codificar:\")\n",
    "con=True\n",
    "while con:\n",
    "    if len(archivo)>5:\n",
    "        if (archivo[-4]+archivo[-3]+archivo[-2]+archivo[-1])==\".txt\":\n",
    "            con=False\n",
    "        else:\n",
    "            archivo=input(\"El archivo no es válido, vuelve a intentar:\")\n",
    "n=int(input(\"¿Cuántos espacios desea desplazar las letras para la codificación?\"))\n",
    "CodTxt(archivo, n, a, A)"
   ]
  },
  {
   "cell_type": "code",
   "execution_count": 8,
   "metadata": {},
   "outputs": [
    {
     "ename": "AttributeError",
     "evalue": "'str' object has no attribute 'txt'",
     "output_type": "error",
     "traceback": [
      "\u001b[0;31m---------------------------------------------------------------------------\u001b[0m",
      "\u001b[0;31mAttributeError\u001b[0m                            Traceback (most recent call last)",
      "\u001b[0;32m<ipython-input-8-b2aeed82617c>\u001b[0m in \u001b[0;36m<module>\u001b[0;34m()\u001b[0m\n\u001b[0;32m----> 1\u001b[0;31m \u001b[0mopen\u001b[0m\u001b[0;34m(\u001b[0m\u001b[0marchivo\u001b[0m\u001b[0;34m.\u001b[0m\u001b[0mtxt\u001b[0m\u001b[0;34m)\u001b[0m\u001b[0;34m\u001b[0m\u001b[0;34m\u001b[0m\u001b[0m\n\u001b[0m",
      "\u001b[0;31mAttributeError\u001b[0m: 'str' object has no attribute 'txt'"
     ]
    }
   ],
   "source": []
  },
  {
   "cell_type": "code",
   "execution_count": null,
   "metadata": {},
   "outputs": [],
   "source": []
  }
 ],
 "metadata": {
  "kernelspec": {
   "display_name": "Python 3",
   "language": "python",
   "name": "python3"
  },
  "language_info": {
   "codemirror_mode": {
    "name": "ipython",
    "version": 3
   },
   "file_extension": ".py",
   "mimetype": "text/x-python",
   "name": "python",
   "nbconvert_exporter": "python",
   "pygments_lexer": "ipython3",
   "version": "3.7.2"
  }
 },
 "nbformat": 4,
 "nbformat_minor": 2
}
