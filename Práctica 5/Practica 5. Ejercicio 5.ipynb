{
 "cells": [
  {
   "cell_type": "code",
   "execution_count": 3,
   "metadata": {},
   "outputs": [],
   "source": [
    "import numpy\n",
    "from numpy import *\n",
    "import matplotlib.pyplot as plt\n",
    "from matplotlib import *"
   ]
  },
  {
   "cell_type": "markdown",
   "metadata": {},
   "source": [
    "## Para mi facilidad de entendimiento de las partes a realizar, se usaron varias funciones"
   ]
  },
  {
   "cell_type": "markdown",
   "metadata": {},
   "source": [
    "#### Ya que en intentos iniciales no se tomaban en cuenta ciertas combinaciones de la relación B**P yno identifique el error; en primer lugar está  la función potencias que establece las combinaciones de las potencias inversas de la base dependiente de la precison"
   ]
  },
  {
   "cell_type": "code",
   "execution_count": 4,
   "metadata": {},
   "outputs": [],
   "source": [
    "def Potencias(P,B):\n",
    "    Z=[]\n",
    "    for p in range(P-1):\n",
    "        Zi=[]\n",
    "        for b in range(0,B):\n",
    "            Zi.append(b/(B)**(p+1))\n",
    "        Z.append(Zi)\n",
    "    return(Z)"
   ]
  },
  {
   "cell_type": "markdown",
   "metadata": {},
   "source": [
    "#### Debido a que me saltaba el error sobre que listas sólo se pueden sumar con listas, fue más fácil establecer la suma como una función extra"
   ]
  },
  {
   "cell_type": "code",
   "execution_count": 5,
   "metadata": {},
   "outputs": [],
   "source": [
    "def Suma(A,B):\n",
    "    Y=[]\n",
    "    for a in A:\n",
    "        y=a\n",
    "        for b in B:\n",
    "            y=y+b\n",
    "            Y.append(y)\n",
    "    return(Y)"
   ]
  },
  {
   "cell_type": "markdown",
   "metadata": {},
   "source": [
    "#### Como se dijo antes, se perdian datos durante el proceso de las potencias de B**P; con esta función se realiza la suma de todos los casos de las potencias hechos en la función Potencias"
   ]
  },
  {
   "cell_type": "code",
   "execution_count": 6,
   "metadata": {},
   "outputs": [],
   "source": [
    "def Suma1(C):\n",
    "    if len(C)==0:\n",
    "        X=[]\n",
    "    elif len(C)==1:\n",
    "        X=C[0]\n",
    "    elif len(C)==2:\n",
    "        X=Suma(C[0],C[1])\n",
    "    else:     \n",
    "        X=Suma(C[0],C[1])\n",
    "        C.remove(C[0])\n",
    "        C.remove(C[0])\n",
    "        #En este caso, como el valor cero se repiten en practicamente cada iteración, el comando remove duplicado,\n",
    "        # provoca que se elimine el cero en cada iteración, haciendo que en la lista final no haya un cero\n",
    "        for lis in C:\n",
    "            X=Suma(X,lis)\n",
    "    return(X)"
   ]
  },
  {
   "cell_type": "markdown",
   "metadata": {},
   "source": [
    "#### Como se resumió la mayoría de los comandos en las funciones superiores, sólo se deben sustituir datos"
   ]
  },
  {
   "cell_type": "code",
   "execution_count": 15,
   "metadata": {},
   "outputs": [],
   "source": [
    "def elementsFloatN(B,P,L,U):\n",
    "    E=[]\n",
    "    for e0 in range(L,U+1):\n",
    "        E.append(e0)\n",
    "    L1=Potencias(P,B)\n",
    "    L1.insert(0,[])\n",
    "    for d0 in range(1,B):\n",
    "        L1[0].append(d0)\n",
    "    V=Suma1(L1)\n",
    "    W=[]\n",
    "    for v in V:\n",
    "        for e in E:\n",
    "            W.append(v*(B**e))\n",
    "            W.append(-1*(v*(B**e)))\n",
    "    W.append(0)\n",
    "    #Como en la funcion sumaNueva, el cero fue eliminado, es necesario agregarlo al final para tener siempre el\n",
    "    # el punto cero graficado\n",
    "    UFL=(B**L)\n",
    "    OFL=((B**(U+1))*(1-B**((-1)*P)))\n",
    "    cantidadnum1=2*(B-1)*(B**(P-1)*(U-L+1))+1\n",
    "    cantidadtot1=len(W)\n",
    "    plt.plot(W, zeros(len(W)),\".\")\n",
    "    plt.xlim(-(OFL+1),OFL+1)\n",
    "    print(\"UFL=\", UFL)\n",
    "    print(\"OFL=\", OFL)\n",
    "    print(\"Cantidad de números que contiene el sistema=\" , cantidadnum1)\n",
    "    print(\"Rango de exponentes=\", E)\n",
    "    print(\"Puntos graficados=\", W)"
   ]
  },
  {
   "cell_type": "code",
   "execution_count": 16,
   "metadata": {},
   "outputs": [
    {
     "name": "stdout",
     "output_type": "stream",
     "text": [
      "UFL= 0.5\n",
      "OFL= 3.5\n",
      "Cantidad de números que contiene el sistema= 25\n",
      "Rango de exponentes= [-1, 0, 1]\n",
      "Puntos graficados= [0.5, -0.5, 1.0, -1.0, 2.0, -2.0, 0.625, -0.625, 1.25, -1.25, 2.5, -2.5, 0.75, -0.75, 1.5, -1.5, 3.0, -3.0, 0.875, -0.875, 1.75, -1.75, 3.5, -3.5, 0]\n"
     ]
    },
    {
     "data": {
      "image/png": "[encoded data removed]",
      "text/plain": [
       "<Figure size 432x288 with 1 Axes>"
      ]
     },
     "metadata": {
      "needs_background": "light"
     },
     "output_type": "display_data"
    }
   ],
   "source": [
    "elementsFloatN(2,3,-1,1)"
   ]
  },
  {
   "cell_type": "code",
   "execution_count": null,
   "metadata": {},
   "outputs": [],
   "source": []
  }
 ],
 "metadata": {
  "kernelspec": {
   "display_name": "Python 3",
   "language": "python",
   "name": "python3"
  },
  "language_info": {
   "codemirror_mode": {
    "name": "ipython",
    "version": 3
   },
   "file_extension": ".py",
   "mimetype": "text/x-python",
   "name": "python",
   "nbconvert_exporter": "python",
   "pygments_lexer": "ipython3",
   "version": "3.7.1"
  }
 },
 "nbformat": 4,
 "nbformat_minor": 2
}
