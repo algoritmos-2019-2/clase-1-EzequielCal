{
 "cells": [
  {
   "cell_type": "markdown",
   "metadata": {},
   "source": [
    "# Práctica 5. Ejercicio 4"
   ]
  },
  {
   "cell_type": "markdown",
   "metadata": {},
   "source": [
    "# Camacho López Rubén Ezequiel"
   ]
  },
  {
   "cell_type": "markdown",
   "metadata": {},
   "source": [
    "## Realizar una función que arroje UFL, OFL y te genere los mismos datos que los ejercicios pasados"
   ]
  },
  {
   "cell_type": "code",
   "execution_count": 1,
   "metadata": {},
   "outputs": [],
   "source": [
    "import numpy\n",
    "from numpy import *\n",
    "import matplotlib.pyplot as plt\n",
    "from matplotlib import *"
   ]
  },
  {
   "cell_type": "code",
   "execution_count": 32,
   "metadata": {},
   "outputs": [],
   "source": [
    "def elementsFloat(B,P,L,U):\n",
    "    floatnumber=[0]\n",
    "    E=[]\n",
    "    UFL=[]\n",
    "    OFL=[]\n",
    "    base=B\n",
    "    P=3\n",
    "    for a in range(L,U+1):\n",
    "        E.append(a)\n",
    "    for b in E:\n",
    "        for c in range(1,base):\n",
    "            for d in range(0,base):\n",
    "                for e in range(0,base):\n",
    "                    floatnumber.append((c+(d/B)+(e/B**2))*(B**b))\n",
    "                    floatnumber.append(-1.0*((c+(d/B)+(e/B**2))*(B**b)))\n",
    "    UFL.append(B**L)\n",
    "    OFL.append((B**(U+1))*(1-B**((-1)*P)))\n",
    "    cantidadnum=2*(B-1)*(B**(P-1)*(U-L+1))+1\n",
    "    cantidadtot=len(floatnumber)\n",
    "    plt.plot(floatnumber, zeros(len(floatnumber)),\".\")\n",
    "    plt.xlim(-5,5)\n",
    "    print(\"UFL=\", UFL)\n",
    "    print(\"OFL=\", OFL)\n",
    "    print(\"Cantidad de números que se grafican=\" , cantidadnum)\n",
    "    print(\"Longitud de los números graficados=\", cantidadtot)\n",
    "    print(floatnumber)"
   ]
  },
  {
   "cell_type": "code",
   "execution_count": 33,
   "metadata": {},
   "outputs": [
    {
     "name": "stdout",
     "output_type": "stream",
     "text": [
      "UFL= [0.5]\n",
      "OFL= [3.5]\n",
      "Cantidad de números que se grafican= 25\n",
      "Longitud de los números graficados= 25\n",
      "[0, 0.5, -0.5, 0.625, -0.625, 0.75, -0.75, 0.875, -0.875, 1.0, -1.0, 1.25, -1.25, 1.5, -1.5, 1.75, -1.75, 2.0, -2.0, 2.5, -2.5, 3.0, -3.0, 3.5, -3.5]\n"
     ]
    },
    {
     "data": {
      "image/png": "[encoded data removed]",
      "text/plain": [
       "<Figure size 432x288 with 1 Axes>"
      ]
     },
     "metadata": {
      "needs_background": "light"
     },
     "output_type": "display_data"
    }
   ],
   "source": [
    "elementsFloat(2,3,-1,1)"
   ]
  },
  {
   "cell_type": "code",
   "execution_count": null,
   "metadata": {},
   "outputs": [],
   "source": []
  }
 ],
 "metadata": {
  "kernelspec": {
   "display_name": "Python 3",
   "language": "python",
   "name": "python3"
  },
  "language_info": {
   "codemirror_mode": {
    "name": "ipython",
    "version": 3
   },
   "file_extension": ".py",
   "mimetype": "text/x-python",
   "name": "python",
   "nbconvert_exporter": "python",
   "pygments_lexer": "ipython3",
   "version": "3.7.1"
  }
 },
 "nbformat": 4,
 "nbformat_minor": 2
}
