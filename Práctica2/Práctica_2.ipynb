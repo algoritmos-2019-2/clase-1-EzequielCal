{
 "cells": [
  {
   "cell_type": "markdown",
   "metadata": {},
   "source": [
    "# Algoritmos Computacionales. Práctica 2."
   ]
  },
  {
   "cell_type": "markdown",
   "metadata": {},
   "source": [
    "## Camacho López Rubén Ezequiel"
   ]
  },
  {
   "cell_type": "markdown",
   "metadata": {},
   "source": [
    "***Funciones***"
   ]
  },
  {
   "cell_type": "markdown",
   "metadata": {},
   "source": [
    "1.- Las funciones son ventajosas en programas porque al definirlas se asegura una forma de funcionamiento especifico que facilita la ejecución del programa donde se usa. Además de que es repetible cada vez que queramos.\n",
    "\n",
    "2.- Lafunción se debe definir en el primer renglón de nuestro programa, y en los renglones posteriores sus variables; esto para que después podamos usar esa función como nos plazca en nuestro código.\n",
    "\n",
    "3.- Para definir una función se usa el comando \"def nombre_función()\".\n",
    "\n",
    "\n",
    "4.- Una función es la definición de esta, mientras que la llamada de función es en sí la rutina que debe correr dicha función para arrojar lo que se requiera.\n",
    "\n",
    "5.- La cantidad de ámbitos locales y globales no está limitado aun número en específico, así que habrá tantas como se requiera.\n",
    "\n",
    "6.- Se pueden llegar a modificar, así como llegar a ser declaradas como variables dentro de la llamada; o bien en la llamda más básica, pueden ser leídas.\n",
    "\n",
    "7.- Un valor de retorno es aquel al que una función regresa después de que termina un ciclo de ejecución; un valor de retorno sí puede ser parte de una expresión, pero sólo si se especifica que el valor será utilizado después.\n",
    "\n",
    "8.- Para el caso de que el valor de retorno no este definido, no se devuelve nada porque entonces la secuencia del programa seguirá ejecutándose.Por lo que no hay valor de retorno de la llamada de esa función.\n",
    "\n",
    "9.- Para forzar una variable a ser global, durante la declaración de variables se debe escribir lo siguiente: \"global nombre_variables\".\n",
    "\n",
    "10.- Los datos para NONE, en sí no son valores que nosotros podamos asignar directamente; los valores que tiene son aquellos que se generarán o asignarán automaticamente durante la ejecución del programa; por lo que se puede decir que NONE sirve para inicializar una variable previamente declarada si no sabemos qué tipo de dato tendrá.\n",
    "\n",
    "11.- La declaración impor random hace que dada un lista de variables, se tome en cuenta cualquiera de estas al azar, provocando un funcionamiento de programa no estatico, si no variable.\n",
    "\n",
    "12.- Se supone que preferentemente importes random antes de establecer modulos random, pero la fución se volvería una función random de cualquier forma, a la cual le puedes asignar el nombre que desees."
   ]
  },
  {
   "cell_type": "markdown",
   "metadata": {},
   "source": [
    "***Listas y Tuplas***"
   ]
  },
  {
   "cell_type": "markdown",
   "metadata": {},
   "source": [
    "1.- \"[ ]\" es la forma en que se declaran los elementos de una lista.\n",
    "\n",
    "2.- De inicio puedes declarar \"hola\" como la tercer variable, pero si no haces eso, puedes señalar el valor de una lista a algo específico como lo siguiente: Sea a una lista, entonces \"a[2]=\"hola\".\n",
    "Para spam, puedes volver a señalar \"hola\" y volverla a definir como spam[2, 4, 6, 8, 10].\n",
    "    \n",
    "3.- Se evalua el cuarto valor de la lista spam multiplicando por 2 y luego dividiendo entre 11; lo que es igual a 16/11.\n",
    "\n",
    "4.- En este caso el comando spam[-1] regresa el segundo valor de la lista, pero multiplicado por un menos, entonces arroja -4.\n",
    "\n",
    "5.- En este caso, el espacio vacío se toma como el primer término y el segundo es el número a aprtir del cual no hay acción alguna; entonces spam[:2] nos arroja [2, 4].\n",
    "\n",
    "6.- El comando que se menciona es el inverso a a:[n] ya que el que ahora se usa arroja la posición en la lista de la variable. Y como en una lista con 2 valores iguales se toma en cuanta el primero, entonces se arroja 1 ya que \"cat\" aparece por primera vez en el segundo termino de la lista.\n",
    "\n",
    "7.- Ese comando sirve para añadir elementos a la lista, y en ese caso, el 99 se agrega al final de la lista, por lo que queda [3.14, cat, 11, cat, True, 99].\n",
    "\n",
    "8.- Este comando remueve la variable cat, en este caso borrando la primera, entonces queda [3.14, 11, cat, True, 99].\n",
    "\n",
    "9.- Teniendo 2 listas, se puede definir una tercera tal que l3=l1+12; o bien se pueden añadir a una lista los elementos de la otra tal que l1=l1+l2; lo cual se puede hacer igualmente ejecutando l1.extend(l2). O bien se puede insertar una lista dentro de otra tal que l1.append(l2).\n",
    "Mientras que las replicaciones pueden ser l1.copy() para regresar una copia. l1.sort() para ordenar por valor los elementos de la lista. Y l1.reverse() para invertir el orden de los elementos de la lista.\n",
    "    \n",
    "10.- \"append\" agrega el elemento al final de la lista; mientras que \"insert\" puede ser usado para especificar en que lugar quieres introducir el elemento nuevo.\n",
    "\n",
    "11.- Una tupla no puede ser alterada o arrojrá un error, además de que en términos de almacenamiento, por esto mismo, la tupla ocupa menor espacio."
   ]
  },
  {
   "cell_type": "markdown",
   "metadata": {},
   "source": [
    "***Programas***"
   ]
  },
  {
   "cell_type": "markdown",
   "metadata": {},
   "source": [
    "*Test del número primo*"
   ]
  },
  {
   "cell_type": "code",
   "execution_count": null,
   "metadata": {},
   "outputs": [],
   "source": [
    "#Un número es primo si sólo es divisible entre la identidad (1) y el mismo.\n",
    "a=0\n",
    "n=int(input(\"Ingresa un número:\"))\n",
    "for i in range(1, n+1):\n",
    "    if(n % i==0):\n",
    "        a=a+1\n",
    "if(a!=2):\n",
    "    print(\"No es primo\")\n",
    "else:\n",
    "    print(\"Sí es primo\")"
   ]
  },
  {
   "cell_type": "markdown",
   "metadata": {},
   "source": [
    "*Números primos hasta n*"
   ]
  },
  {
   "cell_type": "code",
   "execution_count": null,
   "metadata": {},
   "outputs": [],
   "source": [
    "comprobar=True\n",
    "while comprobar:\n",
    "    n=int(input(\"Ingrese un número:\"))\n",
    "    if n > 0:\n",
    "        comprobar = False\n",
    "        i=2\n",
    "        while i <= n:\n",
    "            creciente = 2\n",
    "            Primo=True\n",
    "            while Primo and creciente < i:\n",
    "                if 1 % creciente == 0:\n",
    "                    Primo = False\n",
    "                else:\n",
    "                    creciente=creciente + 1\n",
    "            if Primo:\n",
    "                print(i)\n",
    "            i=i+1\n",
    "    else:\n",
    "        print(\"Intentelo de nuevo\")"
   ]
  },
  {
   "cell_type": "markdown",
   "metadata": {},
   "source": [
    "*Tupla de números primos gemelos*"
   ]
  },
  {
   "cell_type": "code",
   "execution_count": null,
   "metadata": {},
   "outputs": [],
   "source": [
    "#Los números primos gemelos son aquellos números primos cuya diferencia es 2; tal como 11 y 13.\n",
    "comprobar = True\n",
    "while comprobar:\n",
    "    n=int(input(\"Ingrese un número:\"))\n",
    "    a=0\n",
    "    b=1\n",
    "    if n > 0 and n != b:\n",
    "        comprobar = False\n",
    "        for i in range(1, n+1):\n",
    "            creciente = 2\n",
    "            Primo = True\n",
    "            while Primo and creciente < i:\n",
    "                if i % creciente == 0:\n",
    "                    Primo = False\n",
    "                else:\n",
    "                    creciente = creciente + 1\n",
    "            if Primo and not a:\n",
    "                a = i\n",
    "            elif Primo and a:\n",
    "                b = i\n",
    "                if b-a == 2:\n",
    "                    print(a, \"y\", b)\n",
    "                a = i\n",
    "                print()\n",
    "else:\n",
    "    if n == 1:\n",
    "        print(\"Intentelo de nuevo\")\n",
    "    elif n == 2:\n",
    "        print(\"Intentelo de nuevo\")\n",
    "    elif n == 3:\n",
    "        print(\"1 y 3\")"
   ]
  },
  {
   "cell_type": "markdown",
   "metadata": {},
   "source": [
    "#### No pude lograr que mostrara una tupla"
   ]
  },
  {
   "cell_type": "markdown",
   "metadata": {},
   "source": [
    "*Potencia de número n en números primos*"
   ]
  },
  {
   "cell_type": "code",
   "execution_count": null,
   "metadata": {},
   "outputs": [],
   "source": [
    "#El teorema fundamental de la aritmética dice que cada número n entero se puede reescribir como una multiplicación de números primos.\n",
    "n = int(input(\"Introduzca un número:\"))\n",
    "factores = []\n",
    "d = 2\n",
    "while n > 1:\n",
    "    if n%d == 0:\n",
    "        n = n/d\n",
    "        factores.append(d)\n",
    "    else:\n",
    "        d = d+1\n",
    "print(factores)\n",
    "#Si un número se repite m veces, esa es la potencia en la que está."
   ]
  },
  {
   "cell_type": "markdown",
   "metadata": {},
   "source": [
    "*Mínimo común multiplo*"
   ]
  },
  {
   "cell_type": "code",
   "execution_count": null,
   "metadata": {},
   "outputs": [],
   "source": [
    "def mcm(a, b):\n",
    "    if a > b:\n",
    "        mayor = a\n",
    "    else:\n",
    "        mayor = b\n",
    "    while(True):\n",
    "        if ((mayor % a == 0) and (mayor % b == 0)):\n",
    "            mcm = mayor\n",
    "            break\n",
    "        mayor = mayor + 1\n",
    "    return mcm\n",
    "n1=int(input(\"Ingrese el primer número:\"))\n",
    "n2=int(input(\"Ingrese el segundo número:\"))\n",
    "print(\"El mínimo común multiplo de\", n1, \"y\", n2, \"es\", mcm(n1, n2))"
   ]
  },
  {
   "cell_type": "markdown",
   "metadata": {},
   "source": [
    "*Máximo común divisor*"
   ]
  },
  {
   "cell_type": "code",
   "execution_count": null,
   "metadata": {},
   "outputs": [],
   "source": [
    "def mcd(a, b):\n",
    "    resto = 0\n",
    "    while b > 0:\n",
    "        resto = b\n",
    "        b = a % b\n",
    "        a = resto\n",
    "    return a\n",
    "n1=int(input(\"Ingrese el primer número:\"))\n",
    "n2=int(input(\"Ingrese el segundo número:\"))\n",
    "print(\"El máximo común divisor de\", n1, \"y\", n2, \"es\", mcd(n1, n2))"
   ]
  },
  {
   "cell_type": "code",
   "execution_count": null,
   "metadata": {},
   "outputs": [],
   "source": []
  }
 ],
 "metadata": {
  "kernelspec": {
   "display_name": "Python 3",
   "language": "python",
   "name": "python3"
  },
  "language_info": {
   "codemirror_mode": {
    "name": "ipython",
    "version": 3
   },
   "file_extension": ".py",
   "mimetype": "text/x-python",
   "name": "python",
   "nbconvert_exporter": "python",
   "pygments_lexer": "ipython3",
   "version": "3.6.7"
  }
 },
 "nbformat": 4,
 "nbformat_minor": 2
}
